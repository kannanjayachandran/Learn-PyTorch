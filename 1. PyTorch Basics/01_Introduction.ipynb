{
 "cells": [
  {
   "cell_type": "markdown",
   "id": "b815bf93-506f-48ac-a3e8-a03c9887304f",
   "metadata": {},
   "source": [
    "## PyTorch Introduction"
   ]
  },
  {
   "cell_type": "markdown",
   "id": "35f823c1-01e0-4500-9dae-bb6750a0cf47",
   "metadata": {},
   "source": [
    "### Creating a Tensor"
   ]
  },
  {
   "cell_type": "code",
   "execution_count": 1,
   "id": "485c63e7-5f42-4d91-b7b6-6000591b6823",
   "metadata": {},
   "outputs": [],
   "source": [
    "# importing pyTorch\n",
    "import torch"
   ]
  },
  {
   "cell_type": "code",
   "execution_count": 3,
   "id": "4e1a0819-d1f4-443b-82d2-4cf2b0a6f558",
   "metadata": {},
   "outputs": [
    {
     "name": "stdout",
     "output_type": "stream",
     "text": [
      "<class 'torch.Tensor'>\n"
     ]
    }
   ],
   "source": [
    "# creating a scalar\n",
    "scalar_value = torch.tensor(100)\n",
    "\n",
    "print(type(scalar_value))"
   ]
  },
  {
   "cell_type": "code",
   "execution_count": 6,
   "id": "2b66d65a-35c7-4d00-a5ef-ff5b61be1e15",
   "metadata": {},
   "outputs": [
    {
     "name": "stdout",
     "output_type": "stream",
     "text": [
      "<class 'int'>\n"
     ]
    }
   ],
   "source": [
    "# we can use .item() to get the torch object as an int or python object\n",
    "hundred = scalar_value.item()\n",
    "print(type(hundred))"
   ]
  },
  {
   "cell_type": "code",
   "execution_count": 7,
   "id": "12bf9975-8bc8-4f3c-a581-813a9f0412e3",
   "metadata": {},
   "outputs": [],
   "source": [
    "vector_value = torch.tensor([100, 150])\n",
    "matrix_value = torch.tensor([[1, 2, 3], [4, 5, 6]])\n",
    "tensor_value = torch.tensor([[[1, 2, 3], [4, 5, 6]]])"
   ]
  },
  {
   "cell_type": "code",
   "execution_count": 8,
   "id": "d79a1683-92ec-491a-96b4-6eb1af0f9d2b",
   "metadata": {},
   "outputs": [
    {
     "name": "stdout",
     "output_type": "stream",
     "text": [
      "tensor([100, 150])\n",
      "tensor([[1, 2, 3],\n",
      "        [4, 5, 6]])\n",
      "tensor([[[1, 2, 3],\n",
      "         [4, 5, 6]]])\n"
     ]
    }
   ],
   "source": [
    "print(vector_value)\n",
    "print(matrix_value)\n",
    "print(tensor_value)"
   ]
  },
  {
   "cell_type": "markdown",
   "id": "41b73502-139f-4173-a370-ec662eef6600",
   "metadata": {},
   "source": [
    "### Creating a random tensor"
   ]
  },
  {
   "cell_type": "code",
   "execution_count": 12,
   "id": "53fe16ed-3fd5-42d0-b4a6-273db727fb81",
   "metadata": {},
   "outputs": [
    {
     "name": "stdout",
     "output_type": "stream",
     "text": [
      "tensor([[[[0.6006, 0.9784, 0.4913, 0.8787],\n",
      "          [0.2012, 0.1660, 0.0232, 0.6378],\n",
      "          [0.1360, 0.7521, 0.9998, 0.6100]],\n",
      "\n",
      "         [[0.9615, 0.4006, 0.1630, 0.1037],\n",
      "          [0.6795, 0.0031, 0.0569, 0.3589],\n",
      "          [0.2975, 0.1169, 0.7237, 0.6934]]]])\n",
      "4\n"
     ]
    }
   ],
   "source": [
    "random_tensor = torch.rand(1, 2, 3, 4)\n",
    "print(random_tensor)\n",
    "print(f'Number of dimensions: {random_tensor.ndim}')"
   ]
  },
  {
   "cell_type": "code",
   "execution_count": null,
   "id": "e614cde7-89fd-4d95-9c81-f7e357100572",
   "metadata": {},
   "outputs": [],
   "source": []
  }
 ],
 "metadata": {
  "kernelspec": {
   "display_name": "ML",
   "language": "python",
   "name": "ml"
  },
  "language_info": {
   "codemirror_mode": {
    "name": "ipython",
    "version": 3
   },
   "file_extension": ".py",
   "mimetype": "text/x-python",
   "name": "python",
   "nbconvert_exporter": "python",
   "pygments_lexer": "ipython3",
   "version": "3.10.9"
  }
 },
 "nbformat": 4,
 "nbformat_minor": 5
}
